{
  "nbformat": 4,
  "nbformat_minor": 0,
  "metadata": {
    "colab": {
      "name": "Untitled1.ipynb",
      "provenance": [],
      "authorship_tag": "ABX9TyNDWTizMxERI1zdgCmzaOT5",
      "include_colab_link": true
    },
    "kernelspec": {
      "name": "python3",
      "display_name": "Python 3"
    },
    "language_info": {
      "name": "python"
    }
  },
  "cells": [
    {
      "cell_type": "markdown",
      "metadata": {
        "id": "view-in-github",
        "colab_type": "text"
      },
      "source": [
        "<a href=\"https://colab.research.google.com/github/shikhharsiingh/aicrowd/blob/main/Quality%20analysis.ipynb\" target=\"_parent\"><img src=\"https://colab.research.google.com/assets/colab-badge.svg\" alt=\"Open In Colab\"/></a>"
      ]
    },
    {
      "cell_type": "code",
      "metadata": {
        "id": "SF1T5HEsO7P7"
      },
      "source": [
        "import numpy as np\n",
        "import pandas as pd\n",
        "import seaborn as sns\n",
        "import matplotlib.pyplot as plt\n",
        "from sklearn.model_selection import train_test_split\n",
        "from sklearn.ensemble import RandomForestClassifier\n",
        "from sklearn import svm\n",
        "from sklearn.svm import SVC\n",
        "from sklearn.neural_network import MLPClassifier\n",
        "from sklearn.metrics import confusion_matrix, classification_report\n",
        "from sklearn.preprocessing import StandardScaler, LabelEncoder\n",
        "%matplotlib inline"
      ],
      "execution_count": 1,
      "outputs": []
    },
    {
      "cell_type": "code",
      "metadata": {
        "id": "40omN5vZQzu6"
      },
      "source": [
        "#Loading Dataset\n",
        "train = pd.read_csv('train.csv', sep = ',')"
      ],
      "execution_count": 6,
      "outputs": []
    },
    {
      "cell_type": "code",
      "metadata": {
        "colab": {
          "base_uri": "https://localhost:8080/"
        },
        "id": "3XrpniH3RkFQ",
        "outputId": "7692850a-163a-4288-98ef-d8bdb9327f3a"
      },
      "source": [
        "\n",
        "train.info()"
      ],
      "execution_count": 9,
      "outputs": [
        {
          "output_type": "stream",
          "text": [
            "<class 'pandas.core.frame.DataFrame'>\n",
            "RangeIndex: 3918 entries, 0 to 3917\n",
            "Data columns (total 12 columns):\n",
            " #   Column                Non-Null Count  Dtype  \n",
            "---  ------                --------------  -----  \n",
            " 0   fixed acidity         3918 non-null   float64\n",
            " 1   volatile acidity      3918 non-null   float64\n",
            " 2   citric acid           3918 non-null   float64\n",
            " 3   residual sugar        3918 non-null   float64\n",
            " 4   chlorides             3918 non-null   float64\n",
            " 5   free sulfur dioxide   3918 non-null   float64\n",
            " 6   total sulfur dioxide  3918 non-null   float64\n",
            " 7   density               3918 non-null   float64\n",
            " 8   pH                    3918 non-null   float64\n",
            " 9   sulphates             3918 non-null   float64\n",
            " 10  alcohol               3918 non-null   float64\n",
            " 11  quality               3918 non-null   int64  \n",
            "dtypes: float64(11), int64(1)\n",
            "memory usage: 367.4 KB\n"
          ],
          "name": "stdout"
        }
      ]
    },
    {
      "cell_type": "code",
      "metadata": {
        "id": "wKyk138bSpjC"
      },
      "source": [
        "#Preprocessing\n",
        "bins = (2, 6.5, 8)\n",
        "groups = ['bad', 'good']\n",
        "train['quality'] = pd.cut(train['quality'], bins = bins, labels = groups)"
      ],
      "execution_count": 11,
      "outputs": []
    },
    {
      "cell_type": "code",
      "metadata": {
        "id": "bQZswgNZTBcE"
      },
      "source": [
        ""
      ],
      "execution_count": null,
      "outputs": []
    }
  ]
}